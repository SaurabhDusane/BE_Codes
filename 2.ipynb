{
 "cells": [
  {
   "cell_type": "markdown",
   "id": "8dd58cd8",
   "metadata": {},
   "source": [
    "<!-- use this command in cmd - spark-shell -->"
   ]
  },
  {
   "cell_type": "code",
   "execution_count": 1,
   "id": "d41a6356-fcde-4941-975a-3d1b45ec2cb4",
   "metadata": {},
   "outputs": [],
   "source": [
    "import findspark\n",
    "findspark.init()"
   ]
  },
  {
   "cell_type": "code",
   "execution_count": 2,
   "id": "cfb8a88d-ea5c-4df6-b7cb-9e7e72f83f3c",
   "metadata": {},
   "outputs": [],
   "source": [
    "import pyspark\n"
   ]
  },
  {
   "cell_type": "code",
   "execution_count": 3,
   "id": "7679de48-9513-41e8-ab1a-01ffcb3752e0",
   "metadata": {},
   "outputs": [
    {
     "name": "stderr",
     "output_type": "stream",
     "text": [
      "24/04/18 13:24:48 WARN Utils: Your hostname, pl1-HP-280-Pro-G6-Microtower-PC resolves to a loopback address: 127.0.1.1, but we couldn't find any external IP address!\n",
      "24/04/18 13:24:48 WARN Utils: Set SPARK_LOCAL_IP if you need to bind to another address\n",
      "Setting default log level to \"WARN\".\n",
      "To adjust logging level use sc.setLogLevel(newLevel). For SparkR, use setLogLevel(newLevel).\n",
      "24/04/18 13:24:49 WARN NativeCodeLoader: Unable to load native-hadoop library for your platform... using builtin-java classes where applicable\n",
      "24/04/18 13:24:49 WARN MacAddressUtil: Failed to find a usable hardware address from the network interfaces; using random bytes: 50:b3:4f:1f:a9:62:e0:67\n",
      "24/04/18 13:24:49 WARN Utils: Service 'SparkUI' could not bind on port 4040. Attempting port 4041.\n",
      "24/04/18 13:24:49 WARN Utils: Service 'SparkUI' could not bind on port 4041. Attempting port 4042.\n",
      "                                                                                \r"
     ]
    },
    {
     "name": "stdout",
     "output_type": "stream",
     "text": [
      "+---+---+------+\n",
      "|row|col|result|\n",
      "+---+---+------+\n",
      "|  0|  0|    36|\n",
      "|  1|  0|    64|\n",
      "|  1|  1|    73|\n",
      "|  0|  1|    41|\n",
      "+---+---+------+\n",
      "\n"
     ]
    }
   ],
   "source": [
    "from pyspark.sql import SparkSession\n",
    "\n",
    "# Create a SparkSession\n",
    "spark = SparkSession.builder \\\n",
    "    .appName(\"MatrixMultiplication\") \\\n",
    "    .getOrCreate()\n",
    "\n",
    "# Sample matrices\n",
    "matrix1 = [\n",
    "    (0, 0, 2),\n",
    "    (0, 1, 3),\n",
    "    (1, 0, 4),\n",
    "    (1, 1, 5)\n",
    "]\n",
    "\n",
    "matrix2 = [\n",
    "    (0, 0, 6),\n",
    "    (0, 1, 7),\n",
    "    (1, 0, 8),\n",
    "    (1, 1, 9)\n",
    "]\n",
    "\n",
    "# Create RDDs from the matrices\n",
    "matrix1_rdd = spark.sparkContext.parallelize(matrix1)\n",
    "matrix2_rdd = spark.sparkContext.parallelize(matrix2)\n",
    "\n",
    "# Perform matrix multiplication using map-reduce\n",
    "result_rdd = matrix1_rdd.flatMap(lambda x: [((x[0], y[1]), x[2] * y[2]) for y in matrix2 if x[1] == y[0]]). \\\n",
    "    reduceByKey(lambda x, y: x + y)\n",
    "\n",
    "\n",
    "# Convert RDD to DataFrame\n",
    "result_df = spark.createDataFrame(result_rdd.map(lambda x: (x[0][0], x[0][1], x[1])), [\"row\", \"col\", \"result\"])\n",
    "\n",
    "# Display the result\n",
    "result_df.show()\n",
    "\n",
    "# Stop SparkSession\n",
    "spark.stop()\n"
   ]
  },
  {
   "cell_type": "code",
   "execution_count": 4,
   "id": "44ae233e-0f7c-4884-9b69-55b37edd0ca3",
   "metadata": {},
   "outputs": [
    {
     "name": "stderr",
     "output_type": "stream",
     "text": [
      "24/04/18 13:26:15 WARN Utils: Service 'SparkUI' could not bind on port 4040. Attempting port 4041.\n",
      "24/04/18 13:26:15 WARN Utils: Service 'SparkUI' could not bind on port 4041. Attempting port 4042.\n"
     ]
    },
    {
     "name": "stdout",
     "output_type": "stream",
     "text": [
      "+-------+-------+-----+\n",
      "|Student|Subject|Grade|\n",
      "+-------+-------+-----+\n",
      "|  Alice|   Math|    A|\n",
      "|  Alice|Science|    A|\n",
      "|  Alice|English|    A|\n",
      "|    Bob|   Math|    B|\n",
      "|    Bob|Science|    B|\n",
      "|    Bob|English|    A|\n",
      "|Charlie|   Math|    B|\n",
      "|Charlie|Science|    B|\n",
      "|Charlie|English|    B|\n",
      "|  David|   Math|    A|\n",
      "|  David|Science|    A|\n",
      "|  David|English|    A|\n",
      "|    Eve|   Math|    B|\n",
      "|    Eve|Science|    A|\n",
      "|    Eve|English|    B|\n",
      "+-------+-------+-----+\n",
      "\n"
     ]
    }
   ],
   "source": [
    "from pyspark.sql import SparkSession\n",
    "\n",
    "# Create a SparkSession\n",
    "spark = SparkSession.builder \\\n",
    "    .appName(\"StudentGrades\") \\\n",
    "    .getOrCreate()\n",
    "\n",
    "# Sample student scores\n",
    "scores = [\n",
    "    (\"Alice\", {\"Math\": 85, \"Science\": 90, \"English\": 80}),\n",
    "    (\"Bob\", {\"Math\": 70, \"Science\": 75, \"English\": 85}),\n",
    "    (\"Charlie\", {\"Math\": 60, \"Science\": 65, \"English\": 70}),\n",
    "    (\"David\", {\"Math\": 90, \"Science\": 95, \"English\": 85}),\n",
    "    (\"Eve\", {\"Math\": 75, \"Science\": 80, \"English\": 75})\n",
    "]\n",
    "\n",
    "# Create RDD from the scores\n",
    "scores_rdd = spark.sparkContext.parallelize(scores)\n",
    "\n",
    "# Define the grading scheme (example)\n",
    "grading_scheme = {\n",
    "    \"A\": (80, 100),\n",
    "    \"B\": (60, 79),\n",
    "    \"C\": (40, 59),\n",
    "    \"D\": (0, 39)\n",
    "}\n",
    "\n",
    "# Function to compute grades for a given score\n",
    "def compute_grade(score):\n",
    "    for grade, (lower_bound, upper_bound) in grading_scheme.items():\n",
    "        if lower_bound <= score <= upper_bound:\n",
    "            return grade\n",
    "    return \"F\"\n",
    "\n",
    "# Map operation to compute grades for each student\n",
    "grades_rdd = scores_rdd.map(lambda x: (x[0], {subject: compute_grade(score) for subject, score in x[1].items()}))\n",
    "\n",
    "# Convert RDD to DataFrame\n",
    "grades_df = spark.createDataFrame(grades_rdd.flatMap(lambda x: [(x[0], subject, grade) for subject, grade in x[1].items()]), [\"Student\", \"Subject\", \"Grade\"])\n",
    "\n",
    "# Display the result\n",
    "grades_df.show()\n",
    "\n",
    "# Stop SparkSession\n",
    "spark.stop()\n"
   ]
  },
  {
   "cell_type": "code",
   "execution_count": 5,
   "id": "8dce8afe-3718-4630-949d-5d308e8fd6ed",
   "metadata": {},
   "outputs": [
    {
     "name": "stderr",
     "output_type": "stream",
     "text": [
      "/usr/lib/python3/dist-packages/scipy/__init__.py:146: UserWarning: A NumPy version >=1.17.3 and <1.25.0 is required for this version of SciPy (detected version 1.25.2\n",
      "  warnings.warn(f\"A NumPy version >={np_minversion} and <{np_maxversion}\"\n",
      "24/04/18 11:25:40 WARN Utils: Service 'SparkUI' could not bind on port 4040. Attempting port 4041.\n",
      "/opt/spark/python/pyspark/sql/pandas/conversion.py:485: FutureWarning: is_datetime64tz_dtype is deprecated and will be removed in a future version. Check `isinstance(dtype, pd.DatetimeTZDtype)` instead.\n",
      "  if should_localize and is_datetime64tz_dtype(s.dtype) and s.dt.tz is not None:\n",
      "                                                                                \r"
     ]
    },
    {
     "name": "stdout",
     "output_type": "stream",
     "text": [
      "Number of male passengers who died: 468\n",
      "Average age of male passengers who died: 24.321581196581196\n",
      "Number of deceased passengers in each class among females:\n",
      "+------+-----+\n",
      "|Pclass|count|\n",
      "+------+-----+\n",
      "|     3|   72|\n",
      "|     2|    6|\n",
      "|     1|    3|\n",
      "+------+-----+\n",
      "\n"
     ]
    }
   ],
   "source": [
    "from pyspark.sql import SparkSession\n",
    "import seaborn as sns\n",
    "\n",
    "# Create a SparkSession\n",
    "spark = SparkSession.builder \\\n",
    "    .appName(\"TitanicAnalysis\") \\\n",
    "    .getOrCreate()\n",
    "\n",
    "# Load the Titanic dataset\n",
    "titanic_df = spark.createDataFrame(sns.load_dataset(\"titanic\"))\n",
    "\n",
    "titanic_df = titanic_df.fillna({'Age': 0})\n",
    "\n",
    "# Filter data for male passengers who died and remove null values from Age column\n",
    "male_deceased = titanic_df.filter((titanic_df[\"Sex\"] == \"male\") & (titanic_df[\"Survived\"] == 0) & titanic_df[\"Age\"].isNotNull())\n",
    "\n",
    "# Check if there are any male passengers who died\n",
    "male_deceased_count = male_deceased.count()\n",
    "\n",
    "if male_deceased_count > 0:\n",
    "    # Calculate the average age of male passengers who died\n",
    "# Calculate the average age of male passengers who died\n",
    "    male_deceased_age_avg = male_deceased.agg({\"Age\": \"avg\"}).collect()[0][0]\n",
    "    print(\"Number of male passengers who died:\", male_deceased_count)\n",
    "    print(\"Average age of male passengers who died:\", male_deceased_age_avg)\n",
    "else:\n",
    "    print(\"No male passengers found who died in the dataset.\")\n",
    "    \n",
    "female_deceased_by_class = titanic_df.filter((titanic_df[\"Sex\"] == \"female\") & (titanic_df[\"Survived\"] == 0)).groupBy(\"Pclass\").count()\n",
    "\n",
    "# Display results\n",
    "print(\"Number of deceased passengers in each class among females:\")\n",
    "female_deceased_by_class.show()\n",
    "# Stop SparkSession\n",
    "spark.stop()\n"
   ]
  },
  {
   "cell_type": "code",
   "execution_count": null,
   "id": "2c6b3f7c-99f7-414f-a5be-2aef637eff89",
   "metadata": {},
   "outputs": [],
   "source": []
  }
 ],
 "metadata": {
  "kernelspec": {
   "display_name": "Python 3 (ipykernel)",
   "language": "python",
   "name": "python3"
  },
  "language_info": {
   "codemirror_mode": {
    "name": "ipython",
    "version": 3
   },
   "file_extension": ".py",
   "mimetype": "text/x-python",
   "name": "python",
   "nbconvert_exporter": "python",
   "pygments_lexer": "ipython3",
   "version": "3.10.12"
  }
 },
 "nbformat": 4,
 "nbformat_minor": 5
}
